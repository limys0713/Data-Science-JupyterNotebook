{
 "cells": [
  {
   "cell_type": "markdown",
   "metadata": {},
   "source": [
    "### Conway’s Game of Life\n",
    "Conway’s Game of Life (https://en.wikipedia.org/wiki/Conway%27s_Game_of_Life) is a classic example of a cellular automaton devised by mathematician John Conway. The game is a classic example of how simple rules can give rise to complex behavior. The game is played on an m-by-n board, which we will represent as an m-by-n matrix. The game proceeds in steps. At any given time, each cell of the board (i.e., entry of our matrix), is either alive (which we will represent as a 1) or dead (which we will represent as a 0). At each step, the board evolves according to a few simple rules:\n",
    "\n",
    "• A live cell with fewer than two live neighbors becomes a dead cell.   \n",
    "• A live cell with more than three live neighbors becomes a dead cell.   \n",
    "• A live cell with two or three live neighbors remains alive.  \n",
    "• A dead cell with exactly three live neighbors becomes alive.  \n",
    "• All other dead cells remain dead.  \n",
    "\n",
    "   The neighbors of a cell are the 8 cells adjacent to it, i.e., left, right, above, below, upper- left, lower-left, upper-right and lower-right. We will follow the convention that the board is toroidal, so that using matrix-like notation (i.e., the cell (0,0) is in the upper-left of the board and the first coordinate specifies a row), the upper neighbor of the cell (0,0) is (m − 1,0), the right neighbor of the cell (m − 1,n − 1) is (m − 1,0), etc. That is, the board “wraps around”. \n",
    "   \n",
    "   Note: you are not required to use this matrix-like indexing. It’s just what I chose to use to explain the toroidal property."
   ]
  },
  {
   "cell_type": "code",
   "execution_count": 7,
   "metadata": {},
   "outputs": [],
   "source": [
    "import numpy as np\n",
    "import matplotlib.pyplot as plt\n",
    "import scipy.stats\n",
    "\n",
    "import copy\n",
    "from matplotlib import animation\n",
    "import time\n",
    "from IPython.display import display,clear_output\n",
    "\n",
    "#%matplotlib inline"
   ]
  },
  {
   "cell_type": "markdown",
   "metadata": {},
   "source": [
    "1. Write a function <span style=\"font-family:Courier; font-size:1em;\">is_valid_board</span> that takes an m-by-n numpy array (i.e., an ndarray) as its only argument and returns a Python Boolean that is True if and only if the argument is a valid representation of a Game of Life board. A valid board is any two-dimensional numpy ndarray with all entries either 0.0 and 1.0."
   ]
  },
  {
   "cell_type": "code",
   "execution_count": 8,
   "metadata": {},
   "outputs": [],
   "source": [
    "def is_valid_board(a):\n",
    "    # In numpy, use element-wise logical operators \"|\" \"&\" instead of \"and\" \"or\"\n",
    "    # np.all() return boolean value based on whether the condition is satisfied\n",
    "    result = np.all((a == 0.0) | (a == 1.0)) \n",
    "    return result"
   ]
  },
  {
   "cell_type": "code",
   "execution_count": 9,
   "metadata": {},
   "outputs": [
    {
     "name": "stdout",
     "output_type": "stream",
     "text": [
      "True\n"
     ]
    }
   ],
   "source": [
    "a = np.array([[0,1,0,1], [1,0,0,1], [1,1,0,0]])\n",
    "print(is_valid_board(a))"
   ]
  },
  {
   "cell_type": "code",
   "execution_count": 10,
   "metadata": {},
   "outputs": [
    {
     "name": "stdout",
     "output_type": "stream",
     "text": [
      "False\n"
     ]
    }
   ],
   "source": [
    "b = np.array([[0,1,1,1], [0,0,0,3], [1,1,0,0]])\n",
    "print(is_valid_board(b))"
   ]
  },
  {
   "cell_type": "markdown",
   "metadata": {},
   "source": [
    "2. Write a function called <span style=\"font-family:Courier; font-size:1em;\">gol_step</span> that takes an m-by-n numpy array as its argument and returns another numpy array of the same size (i.e., also m-by-n), corresponding to the board at the next step of the game. \n",
    "\n",
    "    Your function should perform error checking to ensure that the provided argument is a valid Game of Life board."
   ]
  },
  {
   "cell_type": "code",
   "execution_count": 11,
   "metadata": {},
   "outputs": [],
   "source": [
    "def gol_step(a):\n",
    "    # Check whether the board is valid\n",
    "    if is_valid_board(a):\n",
    "        # Copy a in answer, will modify later on for the correct answer\n",
    "        answer = a.copy()\n",
    "        #print(answer)\n",
    "        neighbor_cells = [(-1, -1), (-1, 0), (-1, 1),\n",
    "                          (0, -1), (0, 1),\n",
    "                          (1, -1), (1, 0), (1, 1)]\n",
    "        \n",
    "        rows, cols = a.shape\n",
    "        #print(rows)\n",
    "        #print(cols)\n",
    "        for (i, j), value in np.ndenumerate(a):\n",
    "            count_alive = 0\n",
    "\n",
    "            for position in neighbor_cells:\n",
    "                correct_i = (i + position[0]) % rows\n",
    "                correct_j = (j + position[1]) % cols\n",
    "\n",
    "                # Count the alive neighbor cell\n",
    "                if a[correct_i, correct_j] == 1:\n",
    "                    count_alive += 1\n",
    "\n",
    "            # When the cell is alive at this moment\n",
    "            if value == 1:\n",
    "                if count_alive < 2 or count_alive > 3:\n",
    "                    answer[i, j] = 0    # Cell becomes dead on the next step\n",
    "            else:   # Cell is dead at the moment\n",
    "                if  count_alive == 3:\n",
    "                    answer[i, j] = 1    # Cell becomes alive\n",
    "        \n",
    "        #print(answer)\n",
    "\n",
    "    return answer\n"
   ]
  },
  {
   "cell_type": "code",
   "execution_count": 12,
   "metadata": {},
   "outputs": [
    {
     "data": {
      "text/plain": [
       "array([[0, 0, 0, 0, 0],\n",
       "       [1, 1, 0, 0, 0],\n",
       "       [1, 1, 0, 0, 1],\n",
       "       [1, 0, 0, 0, 0],\n",
       "       [0, 0, 0, 0, 0]])"
      ]
     },
     "execution_count": 12,
     "metadata": {},
     "output_type": "execute_result"
    }
   ],
   "source": [
    "x = np.array([[0, 1, 0, 0, 0],\n",
    " [1, 0, 0, 1, 0],\n",
    " [1, 0, 0, 0, 1],\n",
    " [0, 1, 0, 0, 0],\n",
    " [0, 0, 0, 0, 0]])\n",
    "y = gol_step(x)\n",
    "y\n"
   ]
  },
  {
   "cell_type": "markdown",
   "metadata": {},
   "source": [
    "3. Write a function called draw_gol_board that takes an m-by-n numpy array (i.e., an ndarray) as its only argument and draws the board as an m-by-n set of tiles, colored black or white correspond to whether the corresponding cell is alive or dead, respectively. Your plot should not have any grid lines, nor should it have any axis labels or axis ticks. \n",
    "\n",
    "    Hint: see the functions plt.xticks() and plt.yticks() for changing axis ticks. \n",
    "    \n",
    "    Hint: you may find the function plt.get_cmap to be useful for working with the matplotlib Colormap objects."
   ]
  },
  {
   "cell_type": "code",
   "execution_count": 13,
   "metadata": {},
   "outputs": [],
   "source": [
    "def draw_gol_board(a):\n",
    "    # Create a figure \n",
    "    plt.figure(figsize=(3, 3), facecolor=\"none\")\n",
    "\n",
    "    # 1 -> black, 0 -> white\n",
    "    cmap = plt.get_cmap('binary')\n",
    "\n",
    "    # Display the board\n",
    "    plt.imshow(a, cmap=cmap, interpolation='nearest')\n",
    "\n",
    "    # Remove ticks \n",
    "    plt.xticks([])  \n",
    "    plt.yticks([]) \n",
    "\n",
    "    # Turn off the grid lines\n",
    "    plt.grid(False)\n",
    "\n",
    "    # Remove axis labels / grid lines / border line\n",
    "    plt.axis('off')  \n",
    "\n",
    "    # Show the plot\n",
    "    plt.show()\n",
    "    "
   ]
  },
  {
   "cell_type": "code",
   "execution_count": 14,
   "metadata": {},
   "outputs": [
    {
     "data": {
      "text/plain": [
       "array([[0, 1, 0, 0, 0],\n",
       "       [1, 0, 0, 1, 0],\n",
       "       [1, 0, 0, 0, 1],\n",
       "       [0, 1, 0, 0, 0],\n",
       "       [0, 0, 0, 0, 0]])"
      ]
     },
     "execution_count": 14,
     "metadata": {},
     "output_type": "execute_result"
    }
   ],
   "source": [
    "x"
   ]
  },
  {
   "cell_type": "code",
   "execution_count": 15,
   "metadata": {},
   "outputs": [
    {
     "data": {
      "image/png": "[encoded data removed]",
      "text/plain": [
       "<Figure size 300x300 with 1 Axes>"
      ]
     },
     "metadata": {},
     "output_type": "display_data"
    }
   ],
   "source": [
    "board = draw_gol_board(x)"
   ]
  },
  {
   "cell_type": "markdown",
   "metadata": {},
   "source": [
    "4.  Create a 20-by-20 numpy array corresponding to a Game of Life board in which all cells are dead, with the exception that the top-left 5-by-5 section of the board looks like this:\n",
    "    \n",
    "    Plot this 20-by-20 board using draw_gol_board."
   ]
  },
  {
   "cell_type": "code",
   "execution_count": 16,
   "metadata": {},
   "outputs": [],
   "source": [
    "x = np.zeros((20, 20))  # Create 20*20 array that all the elements are zero\n",
    "# Top left 5 by 5 section \n",
    "x[0 : 5, 0 : 5] = np.array([[0, 0, 0, 0, 0],\n",
    "                            [0, 0, 1, 0, 0],\n",
    "                            [0, 0, 0, 1, 0],\n",
    "                            [0, 1, 1, 1, 0],\n",
    "                            [0, 0, 0, 0, 0]])"
   ]
  },
  {
   "cell_type": "code",
   "execution_count": 17,
   "metadata": {},
   "outputs": [
    {
     "data": {
      "image/png": "[encoded data removed]",
      "text/plain": [
       "<Figure size 300x300 with 1 Axes>"
      ]
     },
     "metadata": {},
     "output_type": "display_data"
    }
   ],
   "source": [
    "board = draw_gol_board(x)"
   ]
  },
  {
   "cell_type": "markdown",
   "metadata": {},
   "source": [
    "5. Generate a plot with 5 subplots, arranged in a 5-by-1 grid, showing the first five steps of the Game of Life when started with the board you just created, with the steps ordered from top to bottom, The figure in the 5-by-5 sub-board above is called a glider, and it is interesting in that, as you can see from your plot, it seems to move along the board as you run the game."
   ]
  },
  {
   "cell_type": "code",
   "execution_count": 18,
   "metadata": {},
   "outputs": [],
   "source": [
    "# Turn off interactive plotting\n",
    "plt.ioff()\n",
    "\n",
    "x = np.zeros((20, 20))  \n",
    "x[0 : 5, 0 : 5] = np.array([[0, 0, 0, 0, 0],\n",
    "                            [0, 0, 1, 0, 0],\n",
    "                            [0, 0, 0, 1, 0],\n",
    "                            [0, 1, 1, 1, 0],\n",
    "                            [0, 0, 0, 0, 0]])\n",
    "\n",
    "# Create a figure with 5 subplots\n",
    "# plt.subplots(nrows, ncols, additional option) >> nrows: number of rows of subplot, ncols: number of columns of subplot\n",
    "fig, subplot = plt.subplots(5, 1, figsize=(3, 15), facecolor=\"none\")  # Return two values (figure / subplot)\n",
    "\n",
    "# 1 -> black, 0 -> white\n",
    "cmap = plt.get_cmap('binary')\n",
    "\n",
    "# plt.imshow() / plt.xticks() / plt.yticks() / plt.axis()\n",
    "# They are global functions that use for the current active figure\n",
    "\n",
    "# Show the first 5 steps\n",
    "for i in range(5):    \n",
    "    subplot[i].imshow(x, cmap=cmap, interpolation=\"nearest\")\n",
    "    subplot[i].set_xticks([])\n",
    "    subplot[i].set_yticks([])\n",
    "    subplot[i].axis(\"off\")\n",
    "    x = gol_step(x)"
   ]
  },
  {
   "cell_type": "code",
   "execution_count": 19,
   "metadata": {},
   "outputs": [
    {
     "data": {
      "image/png": "[encoded data removed]",
      "text/plain": [
       "<Figure size 300x1500 with 5 Axes>"
      ]
     },
     "metadata": {},
     "output_type": "display_data"
    }
   ],
   "source": [
    "# Turn interactive mode back on\n",
    "#plt.ion()  # Doesnt need to turn on to display or show, keep it off to prevent it will display automatically\n",
    "\n",
    "# Display the plot\n",
    "#plt.show()     # Every time you want to display the plot, you need to execute the upper cell\n",
    "display(fig)    # Both output are the same"
   ]
  },
  {
   "cell_type": "markdown",
   "metadata": {},
   "source": [
    "6. Create a function called draw_animation that takes two arguments, a Game of Life board and a number of steps, and generates an animation of the game as it runs for the given number of steps."
   ]
  },
  {
   "cell_type": "code",
   "execution_count": 23,
   "metadata": {},
   "outputs": [],
   "source": [
    "def draw_animation(M,n): \n",
    "    while n > 0:\n",
    "        clear_output(wait=True) # Clear the output in order to update the new board, and wait until the next frame(output) is ready to be displayed\n",
    "        draw_gol_board(M)\n",
    "        M = gol_step(M) # Prepare the next step first\n",
    "        n -= 1\n",
    "        plt.pause(0.25) # Pause to control the speed of the animation"
   ]
  },
  {
   "cell_type": "code",
   "execution_count": 24,
   "metadata": {},
   "outputs": [],
   "source": [
    "a = np.zeros((20, 20))  \n",
    "a[0 : 5, 0 : 5] = np.array([[0, 0, 0, 0, 0],\n",
    "                            [0, 0, 1, 0, 0],\n",
    "                            [0, 0, 0, 1, 0],\n",
    "                            [0, 1, 1, 1, 0],\n",
    "                            [0, 0, 0, 0, 0]])"
   ]
  },
  {
   "cell_type": "code",
   "execution_count": 25,
   "metadata": {},
   "outputs": [
    {
     "data": {
      "image/png": "[encoded data removed]",
      "text/plain": [
       "<Figure size 300x300 with 1 Axes>"
      ]
     },
     "metadata": {},
     "output_type": "display_data"
    }
   ],
   "source": [
    "draw_animation(a,100)"
   ]
  }
 ],
 "metadata": {
  "kernelspec": {
   "display_name": "Python 3",
   "language": "python",
   "name": "python3"
  },
  "language_info": {
   "codemirror_mode": {
    "name": "ipython",
    "version": 3
   },
   "file_extension": ".py",
   "mimetype": "text/x-python",
   "name": "python",
   "nbconvert_exporter": "python",
   "pygments_lexer": "ipython3",
   "version": "3.12.6"
  }
 },
 "nbformat": 4,
 "nbformat_minor": 2
}
